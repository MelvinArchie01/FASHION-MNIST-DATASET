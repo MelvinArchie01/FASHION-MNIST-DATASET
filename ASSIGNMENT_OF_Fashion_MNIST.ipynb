{
  "nbformat": 4,
  "nbformat_minor": 0,
  "metadata": {
    "colab": {
      "provenance": []
    },
    "kernelspec": {
      "name": "python3",
      "display_name": "Python 3"
    },
    "language_info": {
      "name": "python"
    }
  },
  "cells": [
    {
      "cell_type": "markdown",
      "source": [
        "###Fashion-MNIST\n",
        "   - **Description:** A dataset of Zalando's article images, intended as a drop-in replacement for the original MNIST dataset. It contains 70,000 28x28 grayscale images of 10 fashion categories.\n",
        "   - **Classes:** 10 (T-shirt/top, Trouser, Pullover, Dress, Coat, Sandal, Shirt, Sneaker, Bag, Ankle boot)\n",
        "\n",
        "---\n",
        "##Tasks\n",
        "\n",
        "- Train a CNN model using this dataset and finetune it to get above 70% accuracy\n",
        "- Make sure to use print statements where neccesary to monitor the training of your model"
      ],
      "metadata": {
        "id": "30c40pQjg6X9"
      }
    },
    {
      "cell_type": "markdown",
      "source": [
        "IMPORTING NECESSARY LIBRARIES AND LOADING THE DATASET"
      ],
      "metadata": {
        "id": "UtyCpCqx0bC-"
      }
    },
    {
      "cell_type": "code",
      "execution_count": null,
      "metadata": {
        "id": "okFiVyUceSri"
      },
      "outputs": [],
      "source": [
        "import tensorflow as tf\n",
        "from tensorflow.keras.datasets import fashion_mnist\n",
        "(x_train, y_train), (x_test, y_test) = fashion_mnist.load_data()\n"
      ]
    },
    {
      "cell_type": "markdown",
      "source": [
        "DATA PREPROCESSING"
      ],
      "metadata": {
        "id": "XEMviXDs0j2y"
      }
    },
    {
      "cell_type": "code",
      "source": [
        "x_train = x_train.astype('float32') / 255.0 #for data normalization and improved  convergence\n",
        "x_test = x_test.astype('float32') / 255.0\n",
        "\n",
        "from tensorflow.keras.utils import to_categorical #encoding the target\n",
        "y_train = to_categorical(y_train, num_classes=10)\n",
        "y_test = to_categorical(y_test, num_classes=10)"
      ],
      "metadata": {
        "id": "Mneeh_XFvO9n"
      },
      "execution_count": null,
      "outputs": []
    },
    {
      "cell_type": "markdown",
      "source": [
        "MODEL BUILDING"
      ],
      "metadata": {
        "id": "xI8BlBZr0xmX"
      }
    },
    {
      "cell_type": "code",
      "source": [
        "from tensorflow.keras.models import Sequential #specifying the model as sequential\n",
        "from tensorflow.keras.layers import Conv2D, MaxPooling2D, Flatten, Dense #importing the convolutional layers\n",
        "\n",
        "model = Sequential()\n",
        "model.add(Conv2D(32, (3, 3), activation='relu', input_shape=(28, 28, 1)))\n",
        "model.add(MaxPooling2D((2, 2)))\n",
        "model.add(Conv2D(64, (3, 3), activation='relu'))\n",
        "model.add(MaxPooling2D((2, 2)))\n",
        "model.add(Flatten())\n",
        "model.add(Dense(10, activation='softmax'))"
      ],
      "metadata": {
        "id": "4Xdiw_eVvSwE"
      },
      "execution_count": null,
      "outputs": []
    },
    {
      "cell_type": "code",
      "source": [
        "#compiling the model for training\n",
        "model.compile(optimizer='adam', loss='categorical_crossentropy', metrics=['accuracy'])"
      ],
      "metadata": {
        "id": "VPEsIGUBvWWA"
      },
      "execution_count": null,
      "outputs": []
    },
    {
      "cell_type": "code",
      "source": [
        "#fitting the model with the training data\n",
        "model.fit(x_train, y_train, epochs=10, batch_size=32, validation_data=(x_test, y_test))"
      ],
      "metadata": {
        "id": "-orXELUuvYlp",
        "outputId": "7bf52d77-e6ff-4e6e-dd39-eecb5ee273d0",
        "colab": {
          "base_uri": "https://localhost:8080/"
        }
      },
      "execution_count": null,
      "outputs": [
        {
          "output_type": "stream",
          "name": "stdout",
          "text": [
            "Epoch 1/10\n",
            "1875/1875 [==============================] - 54s 28ms/step - loss: 0.4728 - accuracy: 0.8296 - val_loss: 0.3741 - val_accuracy: 0.8637\n",
            "Epoch 2/10\n",
            "1875/1875 [==============================] - 51s 27ms/step - loss: 0.3252 - accuracy: 0.8837 - val_loss: 0.3251 - val_accuracy: 0.8820\n",
            "Epoch 3/10\n",
            "1875/1875 [==============================] - 53s 28ms/step - loss: 0.2843 - accuracy: 0.8982 - val_loss: 0.3007 - val_accuracy: 0.8924\n",
            "Epoch 4/10\n",
            "1875/1875 [==============================] - 52s 28ms/step - loss: 0.2552 - accuracy: 0.9082 - val_loss: 0.2882 - val_accuracy: 0.8959\n",
            "Epoch 5/10\n",
            "1875/1875 [==============================] - 52s 28ms/step - loss: 0.2351 - accuracy: 0.9148 - val_loss: 0.2913 - val_accuracy: 0.8956\n",
            "Epoch 6/10\n",
            "1875/1875 [==============================] - 51s 27ms/step - loss: 0.2191 - accuracy: 0.9192 - val_loss: 0.2833 - val_accuracy: 0.8972\n",
            "Epoch 7/10\n",
            "1875/1875 [==============================] - 50s 27ms/step - loss: 0.2028 - accuracy: 0.9251 - val_loss: 0.2650 - val_accuracy: 0.9071\n",
            "Epoch 8/10\n",
            "1875/1875 [==============================] - 52s 28ms/step - loss: 0.1895 - accuracy: 0.9306 - val_loss: 0.2886 - val_accuracy: 0.9004\n",
            "Epoch 9/10\n",
            "1875/1875 [==============================] - 51s 27ms/step - loss: 0.1808 - accuracy: 0.9338 - val_loss: 0.2724 - val_accuracy: 0.9047\n",
            "Epoch 10/10\n",
            "1875/1875 [==============================] - 52s 28ms/step - loss: 0.1699 - accuracy: 0.9383 - val_loss: 0.2852 - val_accuracy: 0.9021\n"
          ]
        },
        {
          "output_type": "execute_result",
          "data": {
            "text/plain": [
              "<keras.src.callbacks.History at 0x7ba42262b790>"
            ]
          },
          "metadata": {},
          "execution_count": 6
        }
      ]
    },
    {
      "cell_type": "code",
      "source": [
        "#printing the accuracy and loss function of test set\n",
        "loss, accuracy = model.evaluate(x_test, y_test)\n",
        "print(\"Test Accuracy:\", accuracy)\n",
        "print(\"Test Loss:\", loss)"
      ],
      "metadata": {
        "id": "czP-gv6sxy0P",
        "outputId": "2b084042-e4ef-4be5-bfdb-cfe4b424b87f",
        "colab": {
          "base_uri": "https://localhost:8080/"
        }
      },
      "execution_count": null,
      "outputs": [
        {
          "output_type": "stream",
          "name": "stdout",
          "text": [
            "313/313 [==============================] - 2s 8ms/step - loss: 0.2852 - accuracy: 0.9021\n",
            "Test Accuracy: 0.9021000266075134\n",
            "Test Loss: 0.28515955805778503\n"
          ]
        }
      ]
    },
    {
      "cell_type": "markdown",
      "source": [
        "EVALUATING THE MODEL PERFORMANCE"
      ],
      "metadata": {
        "id": "0XbThxvN1Y0-"
      }
    },
    {
      "cell_type": "code",
      "source": [
        "predictions = model.predict(x_test)\n",
        "\n",
        "#showing a few predictions\n",
        "\n",
        "import numpy as np\n",
        "for i in range(10):\n",
        "    print(\"Predictions:\", np.argmax(predictions[i]))\n",
        "    print(\"Actual:\", np.argmax(y_test[i]))"
      ],
      "metadata": {
        "id": "yVHQCPsRx80Y",
        "outputId": "8da984a3-55fb-41f5-f5a3-e0de99041bd5",
        "colab": {
          "base_uri": "https://localhost:8080/"
        }
      },
      "execution_count": null,
      "outputs": [
        {
          "output_type": "stream",
          "name": "stdout",
          "text": [
            "313/313 [==============================] - 2s 8ms/step\n",
            "Predictions: 9\n",
            "Actual: 9\n",
            "Predictions: 2\n",
            "Actual: 2\n",
            "Predictions: 1\n",
            "Actual: 1\n",
            "Predictions: 1\n",
            "Actual: 1\n",
            "Predictions: 6\n",
            "Actual: 6\n",
            "Predictions: 1\n",
            "Actual: 1\n",
            "Predictions: 4\n",
            "Actual: 4\n",
            "Predictions: 6\n",
            "Actual: 6\n",
            "Predictions: 5\n",
            "Actual: 5\n",
            "Predictions: 7\n",
            "Actual: 7\n"
          ]
        }
      ]
    },
    {
      "cell_type": "markdown",
      "source": [
        "MAPPING BACK TO LABELS"
      ],
      "metadata": {
        "id": "jydQCng5yvSM"
      }
    },
    {
      "cell_type": "code",
      "source": [
        "import numpy as np\n",
        "predictions = model.predict(x_test)\n",
        "predicted_classes = np.argmax(predictions, axis=1)"
      ],
      "metadata": {
        "id": "yl_cqiuRzSeK",
        "outputId": "3d9cfdc4-29a6-41f9-e375-06724b8d6bff",
        "colab": {
          "base_uri": "https://localhost:8080/"
        }
      },
      "execution_count": null,
      "outputs": [
        {
          "output_type": "stream",
          "name": "stdout",
          "text": [
            "313/313 [==============================] - 2s 8ms/step\n"
          ]
        }
      ]
    },
    {
      "cell_type": "code",
      "source": [
        "class_names = ['T-shirt/top', 'Trouser', 'Pullover', 'Dress', 'Coat',\n",
        "               'Sandal', 'Shirt', 'Sneaker', 'Bag', 'Ankle boot']"
      ],
      "metadata": {
        "id": "J6USqHVQyxMk"
      },
      "execution_count": null,
      "outputs": []
    },
    {
      "cell_type": "code",
      "source": [
        "predicted_labels = [class_names[i] for i in predicted_classes]\n",
        "actual_labels = [class_names[i] for i in np.argmax(y_test, axis=1)]"
      ],
      "metadata": {
        "id": "Bmx-ixIEyymH"
      },
      "execution_count": null,
      "outputs": []
    },
    {
      "cell_type": "code",
      "source": [
        "for i in range(10):  # Print first 10 predictions\n",
        "    print(f'Predicted: {predicted_labels[i]}, Actual: {actual_labels[i]}')"
      ],
      "metadata": {
        "id": "o8xOkFaAzfIm",
        "outputId": "700f1f6f-8300-45db-8814-1677c1eaa5f6",
        "colab": {
          "base_uri": "https://localhost:8080/"
        }
      },
      "execution_count": null,
      "outputs": [
        {
          "output_type": "stream",
          "name": "stdout",
          "text": [
            "Predicted: Ankle boot, Actual: Ankle boot\n",
            "Predicted: Pullover, Actual: Pullover\n",
            "Predicted: Trouser, Actual: Trouser\n",
            "Predicted: Trouser, Actual: Trouser\n",
            "Predicted: Shirt, Actual: Shirt\n",
            "Predicted: Trouser, Actual: Trouser\n",
            "Predicted: Coat, Actual: Coat\n",
            "Predicted: Shirt, Actual: Shirt\n",
            "Predicted: Sandal, Actual: Sandal\n",
            "Predicted: Sneaker, Actual: Sneaker\n"
          ]
        }
      ]
    }
  ]
}